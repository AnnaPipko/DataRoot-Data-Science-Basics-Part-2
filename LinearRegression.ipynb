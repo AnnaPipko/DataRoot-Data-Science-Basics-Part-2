{
 "cells": [
  {
   "cell_type": "markdown",
   "metadata": {},
   "source": [
    "# Linear Regression"
   ]
  },
  {
   "cell_type": "markdown",
   "metadata": {},
   "source": [
    "linear_regression: using gradient descent\n",
    "\n",
    "normal_equation: using  normal equation\n",
    "\n",
    "use rlambda>0 for regularization"
   ]
  },
  {
   "cell_type": "code",
   "execution_count": 1,
   "metadata": {
    "collapsed": true
   },
   "outputs": [],
   "source": [
    "import numpy as np\n",
    "import matplotlib.pyplot as plt\n",
    "\n",
    "% matplotlib inline"
   ]
  },
  {
   "cell_type": "code",
   "execution_count": 2,
   "metadata": {
    "collapsed": false
   },
   "outputs": [],
   "source": [
    "def compute_cost(X, y, theta, rlambda):\n",
    "    \n",
    "    err = X.dot(theta) - y\n",
    "    res = 0.5 / y.size * ((err.T).dot(err)[0][0] + rlambda * (theta[1:].T).dot(theta[1:])[0][0])\n",
    "    return res\n",
    "\n",
    "\n",
    "def gradient_descent(X, y, theta, alpha, rlambda, num_iters):\n",
    "\n",
    "    c = alpha / y.size \n",
    "    costs = []\n",
    "    for it in range(num_iters):\n",
    "        temp = theta[0]\n",
    "        theta = (1. - c * rlambda) * theta - c * (X.T).dot(X.dot(theta) - y)\n",
    "        theta[0] += c * temp * rlambda\n",
    "        costs.append(compute_cost(X, y, theta, rlambda))\n",
    "\n",
    "    return theta, costs\n",
    "\n",
    "\n",
    "def feature_normalize(X):\n",
    "    \n",
    "    mean_values = []\n",
    "    std_values = []\n",
    "    X_norm = np.zeros(X.shape)\n",
    "    for i in range(X.shape[1]):\n",
    "        m = np.mean(X[:, i])\n",
    "        s = np.std(X[:, i])\n",
    "        mean_values.append(m)\n",
    "        std_values.append(s)\n",
    "        X_norm[:, i] = X[:, i] - m\n",
    "        if s != 0:\n",
    "            X_norm[:, i] /= s\n",
    "\n",
    "    return X_norm, mean_values, std_values\n",
    "\n",
    "\n",
    "def linear_regression(X, y, alpha=0.01, rlambda=0., num_iters=100):\n",
    "    \n",
    "    n = X.shape[1] + 1\n",
    "    theta = np.zeros((n, 1))\n",
    "    X_norm, mean_values, std_values = feature_normalize(X)\n",
    "    X_norm = np.hstack([np.ones((X.shape[0], 1)), X_norm])\n",
    "    theta, costs = gradient_descent(X_norm, y, theta, alpha, rlambda, num_iters)\n",
    "    \n",
    "    return theta, mean_values, std_values, costs\n",
    "\n",
    "\n",
    "def get_result(X, theta, mean_values, std_values):\n",
    "    \n",
    "    X_norm = np.zeros(X.shape)\n",
    "    for i in range(X.shape[1]):\n",
    "        X_norm[:, i] = X[:, i] - mean_values[i]\n",
    "        if std_values[i] != 0:\n",
    "            X_norm[:, i] /= std_values[i]\n",
    "    X_norm = np.hstack([np.ones((X.shape[0], 1)), X_norm])\n",
    "    res = X_norm.dot(theta)\n",
    "    \n",
    "    return res\n",
    "\n",
    "\n",
    "def normal_equation(X, y, rlambda=0):\n",
    "                    \n",
    "    X_norm, mean_values, std_values = feature_normalize(X)\n",
    "    X_norm = np.hstack([np.ones((X.shape[0], 1)), X_norm])\n",
    "    L = np.identity(X_norm.shape[1])\n",
    "    L[0][0] = 0.\n",
    "    theta = ((np.linalg.pinv((X_norm.T).dot(X_norm) + rlambda * L)).dot(X_norm.T)).dot(y)\n",
    "    cost = compute_cost(X_norm, y, theta, rlambda)\n",
    "                    \n",
    "    return theta, mean_values, std_values, cost"
   ]
  },
  {
   "cell_type": "markdown",
   "metadata": {},
   "source": [
    "### One variable "
   ]
  },
  {
   "cell_type": "code",
   "execution_count": 3,
   "metadata": {
    "collapsed": false
   },
   "outputs": [
    {
     "data": {
      "image/png": "[encoded data removed]",
      "text/plain": [
       "<matplotlib.figure.Figure at 0x6cb85c0>"
      ]
     },
     "metadata": {},
     "output_type": "display_data"
    },
    {
     "name": "stdout",
     "output_type": "stream",
     "text": [
      "theta [ 5.83897996  4.59291914]\n",
      "cost 4.47697139544\n"
     ]
    },
    {
     "data": {
      "image/png": "[encoded data removed]",
      "text/plain": [
       "<matplotlib.figure.Figure at 0x6ca1cc0>"
      ]
     },
     "metadata": {},
     "output_type": "display_data"
    },
    {
     "name": "stdout",
     "output_type": "stream",
     "text": [
      "----------------Normal equation----------------\n",
      "theta [ 5.83913505  4.59304113]\n",
      "cost 4.47697137598\n"
     ]
    }
   ],
   "source": [
    "data = np.loadtxt('ex1data1.txt', delimiter=',')\n",
    "\n",
    "X = data[:, 0]\n",
    "X = X.reshape((len(X),1))\n",
    "y = data[:, 1]\n",
    "y = y.reshape((len(y),1))\n",
    "\n",
    "alpha = 0.1\n",
    "num_iters = 100\n",
    "rlambda = 0.\n",
    "theta, mean_values, std_values, costs = linear_regression(X, y, alpha, rlambda, num_iters)\n",
    "res = get_result(X, theta, mean_values, std_values)\n",
    "\n",
    "plt.scatter(data[:, 0], data[:, 1], marker='o', c='b')\n",
    "plt.title('Profits distribution')\n",
    "plt.xlabel('Population of City in 10,000s')\n",
    "plt.ylabel('Profit in $10,000s')\n",
    "plt.scatter(data[:, 0], res, c='r')\n",
    "plt.show()\n",
    "\n",
    "print 'theta' ,theta.flatten()\n",
    "print 'cost', costs[-1]\n",
    "\n",
    "plt.plot(range(num_iters), costs)\n",
    "plt.title('Cost function')\n",
    "plt.xlabel('Iterations')\n",
    "\n",
    "plt.show()\n",
    "\n",
    "theta, mean_values, std_values, cost = normal_equation(X, y, rlambda)\n",
    "res = get_result(X, theta, mean_values, std_values)\n",
    "print '----------------Normal equation----------------'\n",
    "print 'theta', theta.flatten()\n",
    "print 'cost', cost"
   ]
  },
  {
   "cell_type": "markdown",
   "metadata": {},
   "source": [
    "### Multiple variables"
   ]
  },
  {
   "cell_type": "code",
   "execution_count": 4,
   "metadata": {
    "collapsed": false
   },
   "outputs": [
    {
     "name": "stdout",
     "output_type": "stream",
     "text": [
      "theta [ 340403.61773803  108803.37852266   -5933.9413402 ]\n",
      "cost 2043462824.62\n"
     ]
    },
    {
     "data": {
      "image/png": "[encoded data removed]",
      "text/plain": [
       "<matplotlib.figure.Figure at 0x6eb12e8>"
      ]
     },
     "metadata": {},
     "output_type": "display_data"
    },
    {
     "name": "stdout",
     "output_type": "stream",
     "text": [
      "----------------Normal equation----------------\n",
      "theta [ 340412.65957447  109447.79646964   -6578.35485416]\n",
      "cost 2043280050.6\n"
     ]
    }
   ],
   "source": [
    "data = np.loadtxt('ex1data2.txt', delimiter=',')\n",
    "\n",
    "X = data[:, :2]\n",
    "X = X.reshape((len(X),2))\n",
    "y = data[:, 2]\n",
    "y = y.reshape((len(y),1))\n",
    "\n",
    "alpha = 0.1\n",
    "num_iters = 100\n",
    "rlambda = 0.\n",
    "theta, mean_values, std_values, costs = linear_regression(X, y, alpha, rlambda, num_iters)\n",
    "res = get_result(X, theta, mean_values, std_values)\n",
    "\n",
    "\n",
    "print 'theta' ,theta.flatten()\n",
    "print 'cost', costs[-1]\n",
    "\n",
    "plt.plot(range(num_iters), costs)\n",
    "plt.title('Cost function')\n",
    "plt.xlabel('Iterations')\n",
    "\n",
    "plt.show()\n",
    "\n",
    "theta, mean_values, std_values, cost = normal_equation(X, y, rlambda)\n",
    "res = get_result(X, theta, mean_values, std_values)\n",
    "print '----------------Normal equation----------------'\n",
    "print 'theta', theta.flatten()\n",
    "print 'cost', cost"
   ]
  }
 ],
 "metadata": {
  "kernelspec": {
   "display_name": "Python 2",
   "language": "python",
   "name": "python2"
  },
  "language_info": {
   "codemirror_mode": {
    "name": "ipython",
    "version": 2
   },
   "file_extension": ".py",
   "mimetype": "text/x-python",
   "name": "python",
   "nbconvert_exporter": "python",
   "pygments_lexer": "ipython2",
   "version": "2.7.11"
  }
 },
 "nbformat": 4,
 "nbformat_minor": 0
}
